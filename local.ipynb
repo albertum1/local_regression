{
 "cells": [
  {
   "cell_type": "code",
   "execution_count": 1,
   "metadata": {},
   "outputs": [],
   "source": [
    "import numpy as np\n",
    "import pandas as pd\n",
    "import matplotlib.pyplot as plt\n",
    "import seaborn as sns\n",
    "%matplotlib inline"
   ]
  },
  {
   "cell_type": "code",
   "execution_count": 217,
   "metadata": {},
   "outputs": [],
   "source": [
    "data = pd.read_csv('abalone.data',header=None, nrows = 1000)\n",
    "data.columns = ['sex', 'length', 'diameter', 'height', 'whole_weight', 'shucked_weight', 'viscera_weight', 'shell_weight', 'rings']\n"
   ]
  },
  {
   "cell_type": "code",
   "execution_count": 218,
   "metadata": {},
   "outputs": [
    {
     "data": {
      "text/html": [
       "<div>\n",
       "<style scoped>\n",
       "    .dataframe tbody tr th:only-of-type {\n",
       "        vertical-align: middle;\n",
       "    }\n",
       "\n",
       "    .dataframe tbody tr th {\n",
       "        vertical-align: top;\n",
       "    }\n",
       "\n",
       "    .dataframe thead th {\n",
       "        text-align: right;\n",
       "    }\n",
       "</style>\n",
       "<table border=\"1\" class=\"dataframe\">\n",
       "  <thead>\n",
       "    <tr style=\"text-align: right;\">\n",
       "      <th></th>\n",
       "      <th>sex</th>\n",
       "      <th>length</th>\n",
       "      <th>diameter</th>\n",
       "      <th>height</th>\n",
       "      <th>whole_weight</th>\n",
       "      <th>shucked_weight</th>\n",
       "      <th>viscera_weight</th>\n",
       "      <th>shell_weight</th>\n",
       "      <th>rings</th>\n",
       "    </tr>\n",
       "  </thead>\n",
       "  <tbody>\n",
       "    <tr>\n",
       "      <th>236</th>\n",
       "      <td>I</td>\n",
       "      <td>0.075</td>\n",
       "      <td>0.055</td>\n",
       "      <td>0.010</td>\n",
       "      <td>0.0020</td>\n",
       "      <td>0.0010</td>\n",
       "      <td>0.0005</td>\n",
       "      <td>0.0015</td>\n",
       "      <td>1</td>\n",
       "    </tr>\n",
       "    <tr>\n",
       "      <th>238</th>\n",
       "      <td>I</td>\n",
       "      <td>0.110</td>\n",
       "      <td>0.090</td>\n",
       "      <td>0.030</td>\n",
       "      <td>0.0080</td>\n",
       "      <td>0.0025</td>\n",
       "      <td>0.0020</td>\n",
       "      <td>0.0030</td>\n",
       "      <td>3</td>\n",
       "    </tr>\n",
       "    <tr>\n",
       "      <th>237</th>\n",
       "      <td>I</td>\n",
       "      <td>0.130</td>\n",
       "      <td>0.100</td>\n",
       "      <td>0.030</td>\n",
       "      <td>0.0130</td>\n",
       "      <td>0.0045</td>\n",
       "      <td>0.0030</td>\n",
       "      <td>0.0040</td>\n",
       "      <td>3</td>\n",
       "    </tr>\n",
       "    <tr>\n",
       "      <th>719</th>\n",
       "      <td>I</td>\n",
       "      <td>0.150</td>\n",
       "      <td>0.100</td>\n",
       "      <td>0.025</td>\n",
       "      <td>0.0150</td>\n",
       "      <td>0.0045</td>\n",
       "      <td>0.0040</td>\n",
       "      <td>0.0050</td>\n",
       "      <td>2</td>\n",
       "    </tr>\n",
       "    <tr>\n",
       "      <th>696</th>\n",
       "      <td>I</td>\n",
       "      <td>0.155</td>\n",
       "      <td>0.105</td>\n",
       "      <td>0.050</td>\n",
       "      <td>0.0175</td>\n",
       "      <td>0.0050</td>\n",
       "      <td>0.0035</td>\n",
       "      <td>0.0050</td>\n",
       "      <td>4</td>\n",
       "    </tr>\n",
       "    <tr>\n",
       "      <th>...</th>\n",
       "      <td>...</td>\n",
       "      <td>...</td>\n",
       "      <td>...</td>\n",
       "      <td>...</td>\n",
       "      <td>...</td>\n",
       "      <td>...</td>\n",
       "      <td>...</td>\n",
       "      <td>...</td>\n",
       "      <td>...</td>\n",
       "    </tr>\n",
       "    <tr>\n",
       "      <th>165</th>\n",
       "      <td>M</td>\n",
       "      <td>0.725</td>\n",
       "      <td>0.570</td>\n",
       "      <td>0.190</td>\n",
       "      <td>2.5500</td>\n",
       "      <td>1.0705</td>\n",
       "      <td>0.4830</td>\n",
       "      <td>0.7250</td>\n",
       "      <td>14</td>\n",
       "    </tr>\n",
       "    <tr>\n",
       "      <th>891</th>\n",
       "      <td>M</td>\n",
       "      <td>0.730</td>\n",
       "      <td>0.595</td>\n",
       "      <td>0.230</td>\n",
       "      <td>2.8255</td>\n",
       "      <td>1.1465</td>\n",
       "      <td>0.4190</td>\n",
       "      <td>0.8970</td>\n",
       "      <td>17</td>\n",
       "    </tr>\n",
       "    <tr>\n",
       "      <th>478</th>\n",
       "      <td>M</td>\n",
       "      <td>0.735</td>\n",
       "      <td>0.590</td>\n",
       "      <td>0.225</td>\n",
       "      <td>1.7560</td>\n",
       "      <td>0.6370</td>\n",
       "      <td>0.3405</td>\n",
       "      <td>0.5800</td>\n",
       "      <td>21</td>\n",
       "    </tr>\n",
       "    <tr>\n",
       "      <th>334</th>\n",
       "      <td>F</td>\n",
       "      <td>0.740</td>\n",
       "      <td>0.600</td>\n",
       "      <td>0.195</td>\n",
       "      <td>1.9740</td>\n",
       "      <td>0.5980</td>\n",
       "      <td>0.4085</td>\n",
       "      <td>0.7100</td>\n",
       "      <td>16</td>\n",
       "    </tr>\n",
       "    <tr>\n",
       "      <th>358</th>\n",
       "      <td>M</td>\n",
       "      <td>0.745</td>\n",
       "      <td>0.585</td>\n",
       "      <td>0.215</td>\n",
       "      <td>2.4990</td>\n",
       "      <td>0.9265</td>\n",
       "      <td>0.4720</td>\n",
       "      <td>0.7000</td>\n",
       "      <td>17</td>\n",
       "    </tr>\n",
       "  </tbody>\n",
       "</table>\n",
       "<p>1000 rows × 9 columns</p>\n",
       "</div>"
      ],
      "text/plain": [
       "    sex  length  diameter  height  whole_weight  shucked_weight  \\\n",
       "236   I   0.075     0.055   0.010        0.0020          0.0010   \n",
       "238   I   0.110     0.090   0.030        0.0080          0.0025   \n",
       "237   I   0.130     0.100   0.030        0.0130          0.0045   \n",
       "719   I   0.150     0.100   0.025        0.0150          0.0045   \n",
       "696   I   0.155     0.105   0.050        0.0175          0.0050   \n",
       "..   ..     ...       ...     ...           ...             ...   \n",
       "165   M   0.725     0.570   0.190        2.5500          1.0705   \n",
       "891   M   0.730     0.595   0.230        2.8255          1.1465   \n",
       "478   M   0.735     0.590   0.225        1.7560          0.6370   \n",
       "334   F   0.740     0.600   0.195        1.9740          0.5980   \n",
       "358   M   0.745     0.585   0.215        2.4990          0.9265   \n",
       "\n",
       "     viscera_weight  shell_weight  rings  \n",
       "236          0.0005        0.0015      1  \n",
       "238          0.0020        0.0030      3  \n",
       "237          0.0030        0.0040      3  \n",
       "719          0.0040        0.0050      2  \n",
       "696          0.0035        0.0050      4  \n",
       "..              ...           ...    ...  \n",
       "165          0.4830        0.7250     14  \n",
       "891          0.4190        0.8970     17  \n",
       "478          0.3405        0.5800     21  \n",
       "334          0.4085        0.7100     16  \n",
       "358          0.4720        0.7000     17  \n",
       "\n",
       "[1000 rows x 9 columns]"
      ]
     },
     "execution_count": 218,
     "metadata": {},
     "output_type": "execute_result"
    }
   ],
   "source": [
    "data = data.sort_values(by='length')\n",
    "data"
   ]
  },
  {
   "cell_type": "code",
   "execution_count": null,
   "metadata": {},
   "outputs": [],
   "source": []
  },
  {
   "cell_type": "code",
   "execution_count": null,
   "metadata": {},
   "outputs": [],
   "source": []
  },
  {
   "cell_type": "code",
   "execution_count": 219,
   "metadata": {},
   "outputs": [],
   "source": [
    "_X = np.array(data['length'])\n",
    "_y = np.array(data['whole_weight'])"
   ]
  },
  {
   "cell_type": "code",
   "execution_count": 220,
   "metadata": {},
   "outputs": [
    {
     "data": {
      "text/plain": [
       "<matplotlib.collections.PathCollection at 0x15d90248>"
      ]
     },
     "execution_count": 220,
     "metadata": {},
     "output_type": "execute_result"
    },
    {
     "data": {
      "image/png": "[encoded data removed]",
      "text/plain": [
       "<Figure size 432x288 with 1 Axes>"
      ]
     },
     "metadata": {
      "needs_background": "light"
     },
     "output_type": "display_data"
    }
   ],
   "source": [
    "plt.scatter(_X, _y)"
   ]
  },
  {
   "cell_type": "code",
   "execution_count": 221,
   "metadata": {},
   "outputs": [],
   "source": [
    "def min_max_scaler(array):\n",
    "    \"\"\"\n",
    "    returns scaled array\n",
    "    \"\"\"\n",
    "    return (array - np.min(array)) / (np.max(array) - np.min(array))\n"
   ]
  },
  {
   "cell_type": "code",
   "execution_count": 222,
   "metadata": {},
   "outputs": [],
   "source": [
    "_scaled_X = min_max_scaler(_X)\n",
    "_scaled_y = min_max_scaler(_y)\n"
   ]
  },
  {
   "cell_type": "code",
   "execution_count": 223,
   "metadata": {},
   "outputs": [],
   "source": [
    "difference = np.abs(_scaled_X - _scaled_X[12])"
   ]
  },
  {
   "cell_type": "code",
   "execution_count": 224,
   "metadata": {},
   "outputs": [
    {
     "data": {
      "text/plain": [
       "1000"
      ]
     },
     "execution_count": 224,
     "metadata": {},
     "output_type": "execute_result"
    }
   ],
   "source": [
    "len(difference)"
   ]
  },
  {
   "cell_type": "code",
   "execution_count": null,
   "metadata": {},
   "outputs": [],
   "source": []
  },
  {
   "cell_type": "code",
   "execution_count": 225,
   "metadata": {},
   "outputs": [],
   "source": [
    "_range = [12]\n",
    "window = 30\n",
    "while len(_range) < window:\n",
    "    _first = _range[0]\n",
    "    _last = _range[-1]\n",
    "    if _first == 0:\n",
    "        _range.append(_last + 1)\n",
    "    elif _last == len(difference) - 1:\n",
    "        _range.insert(0, _first - 1)\n",
    "    elif difference[_first - 1] < difference[_last + 1]:\n",
    "        _range.insert(0, _first - 1)\n",
    "    else:\n",
    "        _range.append(_last + 1)"
   ]
  },
  {
   "cell_type": "code",
   "execution_count": 226,
   "metadata": {},
   "outputs": [],
   "source": [
    "# _range"
   ]
  },
  {
   "cell_type": "code",
   "execution_count": 227,
   "metadata": {},
   "outputs": [
    {
     "data": {
      "text/plain": [
       "array([0.06716418, 0.03731343, 0.02985075, 0.02985075, 0.02238806,\n",
       "       0.02238806, 0.01492537, 0.01492537, 0.00746269, 0.        ,\n",
       "       0.        , 0.        , 0.00746269, 0.02238806, 0.02985075,\n",
       "       0.03731343, 0.03731343, 0.04477612, 0.04477612, 0.04477612,\n",
       "       0.05223881, 0.05223881, 0.05970149, 0.06716418, 0.07462687,\n",
       "       0.08208955, 0.08955224, 0.08955224, 0.08955224, 0.08955224])"
      ]
     },
     "execution_count": 227,
     "metadata": {},
     "output_type": "execute_result"
    }
   ],
   "source": [
    "difference[_range]"
   ]
  },
  {
   "cell_type": "code",
   "execution_count": 141,
   "metadata": {},
   "outputs": [],
   "source": [
    "def Gaussian(array):\n",
    "    \"\"\"\n",
    "    \"\"\"\n",
    "    _constant = 1/(np.sqrt(2*np.pi))\n",
    "    return _constant * np.exp((-array**2)/2)"
   ]
  },
  {
   "cell_type": "code",
   "execution_count": 142,
   "metadata": {},
   "outputs": [],
   "source": [
    "def Triweight(array):\n",
    "    \"\"\"\n",
    "    \"\"\"\n",
    "    _constant = 35/32\n",
    "    return (1 - array**2)**3"
   ]
  },
  {
   "cell_type": "code",
   "execution_count": 143,
   "metadata": {},
   "outputs": [],
   "source": [
    "def Biweight(array):\n",
    "    \"\"\"\n",
    "    \"\"\"\n",
    "    _constant = 35/32\n",
    "    return (1 - array**2)**2"
   ]
  },
  {
   "cell_type": "code",
   "execution_count": 144,
   "metadata": {},
   "outputs": [
    {
     "data": {
      "text/plain": [
       "array([0.9909983 , 0.99721735, 0.99821866, 0.99821866, 0.9989978 ,\n",
       "       0.9989978 , 0.99955452, 0.99955452, 0.99988862, 1.        ,\n",
       "       1.        , 1.        , 0.99988862, 0.9989978 , 0.99821866,\n",
       "       0.99721735, 0.99721735, 0.99599422, 0.99599422, 0.99599422,\n",
       "       0.99454966, 0.99454966, 0.99288417, 0.9909983 , 0.98889268,\n",
       "       0.98656802, 0.98402511, 0.98402511, 0.98402511, 0.98402511])"
      ]
     },
     "execution_count": 144,
     "metadata": {},
     "output_type": "execute_result"
    }
   ],
   "source": [
    "Biweight(difference[_range])"
   ]
  },
  {
   "cell_type": "code",
   "execution_count": 145,
   "metadata": {},
   "outputs": [
    {
     "data": {
      "text/plain": [
       "array([0.98652788, 0.99582894, 0.99732918, 0.99732918, 0.99849708,\n",
       "       0.99849708, 0.99933185, 0.99933185, 0.99983293, 1.        ,\n",
       "       1.        , 1.        , 0.99983293, 0.99849708, 0.99732918,\n",
       "       0.99582894, 0.99582894, 0.99399735, 0.99399735, 0.99399735,\n",
       "       0.99183564, 0.99183564, 0.98934526, 0.98652788, 0.98338537,\n",
       "       0.97991984, 0.97613362, 0.97613362, 0.97613362, 0.97613362])"
      ]
     },
     "execution_count": 145,
     "metadata": {},
     "output_type": "execute_result"
    }
   ],
   "source": [
    "Triweight(difference[_range])"
   ]
  },
  {
   "cell_type": "code",
   "execution_count": 152,
   "metadata": {},
   "outputs": [],
   "source": [
    "_weight = Gaussian(difference[_range])"
   ]
  },
  {
   "cell_type": "code",
   "execution_count": null,
   "metadata": {},
   "outputs": [],
   "source": []
  },
  {
   "cell_type": "code",
   "execution_count": null,
   "metadata": {},
   "outputs": [],
   "source": [
    "def kernel(point, xmat, k):\n",
    "    m, n = np.shape(xmat)\n",
    "    weights = np.mat(np.eye((m)))\n",
    "    \n",
    "    for j in range(m):\n",
    "        diff = point - X[j]\n",
    "        weights[j, j] = np.exp(diff * diff.T / (-2.0 * k**2))\n",
    "        \n",
    "    return weights\n",
    "\n",
    "\n",
    "def compute_yhat(X, y):\n",
    "    \"\"\"\n",
    "    \n",
    "    \"\"\"\n",
    "    _X = np.vstack([X.values, np.ones(len(X))]).T\n",
    "    _y = y\n",
    "    m, b = np.linalg.lstsq(_X, _y, rcond=None)[0]\n",
    "    yhat = m * X + b\n",
    "    \n",
    "    return yhat"
   ]
  },
  {
   "cell_type": "code",
   "execution_count": null,
   "metadata": {},
   "outputs": [],
   "source": [
    "y_hat = compute_yhat(_X[_range], _y[_range])"
   ]
  },
  {
   "cell_type": "code",
   "execution_count": null,
   "metadata": {},
   "outputs": [],
   "source": [
    "y_hat = "
   ]
  },
  {
   "cell_type": "code",
   "execution_count": 147,
   "metadata": {},
   "outputs": [
    {
     "data": {
      "text/plain": [
       "<matplotlib.collections.PathCollection at 0x1599eb08>"
      ]
     },
     "execution_count": 147,
     "metadata": {},
     "output_type": "execute_result"
    },
    {
     "data": {
      "image/png": "[encoded data removed]",
      "text/plain": [
       "<Figure size 432x288 with 1 Axes>"
      ]
     },
     "metadata": {
      "needs_background": "light"
     },
     "output_type": "display_data"
    }
   ],
   "source": [
    "plt.scatter(_X[_range], _y[_range])"
   ]
  },
  {
   "cell_type": "code",
   "execution_count": null,
   "metadata": {},
   "outputs": [],
   "source": []
  },
  {
   "cell_type": "code",
   "execution_count": null,
   "metadata": {},
   "outputs": [],
   "source": []
  },
  {
   "cell_type": "code",
   "execution_count": null,
   "metadata": {},
   "outputs": [],
   "source": []
  },
  {
   "cell_type": "code",
   "execution_count": null,
   "metadata": {},
   "outputs": [],
   "source": []
  },
  {
   "cell_type": "code",
   "execution_count": null,
   "metadata": {},
   "outputs": [],
   "source": []
  },
  {
   "cell_type": "code",
   "execution_count": null,
   "metadata": {},
   "outputs": [],
   "source": []
  },
  {
   "cell_type": "code",
   "execution_count": null,
   "metadata": {},
   "outputs": [],
   "source": []
  },
  {
   "cell_type": "code",
   "execution_count": null,
   "metadata": {},
   "outputs": [],
   "source": []
  },
  {
   "cell_type": "code",
   "execution_count": null,
   "metadata": {},
   "outputs": [],
   "source": []
  },
  {
   "cell_type": "code",
   "execution_count": null,
   "metadata": {},
   "outputs": [],
   "source": []
  },
  {
   "cell_type": "code",
   "execution_count": null,
   "metadata": {},
   "outputs": [],
   "source": []
  },
  {
   "cell_type": "code",
   "execution_count": null,
   "metadata": {},
   "outputs": [],
   "source": []
  },
  {
   "cell_type": "code",
   "execution_count": 213,
   "metadata": {},
   "outputs": [],
   "source": [
    "_X_mat = np.mat(_X[_range])\n",
    "_y_mat = np.mat(_y[_range])"
   ]
  },
  {
   "cell_type": "code",
   "execution_count": 214,
   "metadata": {},
   "outputs": [
    {
     "data": {
      "text/plain": [
       "array([[1, 1, 1, 1, 1, 1, 1, 1, 1, 1, 1, 1, 1, 1, 1, 1, 1, 1, 1, 1, 1, 1,\n",
       "        1, 1, 1, 1, 1, 1, 1, 1]])"
      ]
     },
     "execution_count": 214,
     "metadata": {},
     "output_type": "execute_result"
    }
   ],
   "source": [
    "one = np.ones((1, 30), dtype = int)\n",
    "one"
   ]
  },
  {
   "cell_type": "code",
   "execution_count": 215,
   "metadata": {},
   "outputs": [
    {
     "data": {
      "text/plain": [
       "matrix([[1.   , 0.13 ],\n",
       "        [1.   , 0.15 ],\n",
       "        [1.   , 0.155],\n",
       "        [1.   , 0.155],\n",
       "        [1.   , 0.16 ],\n",
       "        [1.   , 0.16 ],\n",
       "        [1.   , 0.165],\n",
       "        [1.   , 0.165],\n",
       "        [1.   , 0.17 ],\n",
       "        [1.   , 0.175],\n",
       "        [1.   , 0.175],\n",
       "        [1.   , 0.175],\n",
       "        [1.   , 0.18 ],\n",
       "        [1.   , 0.19 ],\n",
       "        [1.   , 0.195],\n",
       "        [1.   , 0.2  ],\n",
       "        [1.   , 0.2  ],\n",
       "        [1.   , 0.205],\n",
       "        [1.   , 0.205],\n",
       "        [1.   , 0.205],\n",
       "        [1.   , 0.21 ],\n",
       "        [1.   , 0.21 ],\n",
       "        [1.   , 0.215],\n",
       "        [1.   , 0.22 ],\n",
       "        [1.   , 0.225],\n",
       "        [1.   , 0.23 ],\n",
       "        [1.   , 0.235],\n",
       "        [1.   , 0.235],\n",
       "        [1.   , 0.235],\n",
       "        [1.   , 0.235]])"
      ]
     },
     "execution_count": 215,
     "metadata": {},
     "output_type": "execute_result"
    }
   ],
   "source": [
    "_stacked = np.hstack((one.T, _X_mat.T))\n",
    "_stacked"
   ]
  },
  {
   "cell_type": "code",
   "execution_count": null,
   "metadata": {},
   "outputs": [],
   "source": []
  },
  {
   "cell_type": "code",
   "execution_count": null,
   "metadata": {},
   "outputs": [],
   "source": []
  },
  {
   "cell_type": "code",
   "execution_count": null,
   "metadata": {},
   "outputs": [],
   "source": []
  },
  {
   "cell_type": "code",
   "execution_count": null,
   "metadata": {},
   "outputs": [],
   "source": []
  },
  {
   "cell_type": "code",
   "execution_count": null,
   "metadata": {},
   "outputs": [],
   "source": []
  },
  {
   "cell_type": "code",
   "execution_count": 151,
   "metadata": {},
   "outputs": [
    {
     "data": {
      "text/plain": [
       "matrix([[0.013 , 0.015 , 0.0175, 0.0155, 0.021 , 0.018 , 0.0215, 0.019 ,\n",
       "         0.03  , 0.0235, 0.0315, 0.024 , 0.0265, 0.038 , 0.032 , 0.035 ,\n",
       "         0.037 , 0.046 , 0.0425, 0.042 , 0.042 , 0.0385, 0.0525, 0.0545,\n",
       "         0.0465, 0.0645, 0.0515, 0.0705, 0.048 , 0.067 ]])"
      ]
     },
     "execution_count": 151,
     "metadata": {},
     "output_type": "execute_result"
    }
   ],
   "source": [
    "_y_mat"
   ]
  },
  {
   "cell_type": "code",
   "execution_count": 160,
   "metadata": {},
   "outputs": [
    {
     "data": {
      "text/plain": [
       "matrix([[0.13 , 0.15 , 0.155, 0.155, 0.16 , 0.16 , 0.165, 0.165, 0.17 ,\n",
       "         0.175, 0.175, 0.175, 0.18 , 0.19 , 0.195, 0.2  , 0.2  , 0.205,\n",
       "         0.205, 0.205, 0.21 , 0.21 , 0.215, 0.22 , 0.225, 0.23 , 0.235,\n",
       "         0.235, 0.235, 0.235]])"
      ]
     },
     "execution_count": 160,
     "metadata": {},
     "output_type": "execute_result"
    }
   ],
   "source": [
    "_X_mat"
   ]
  },
  {
   "cell_type": "code",
   "execution_count": 162,
   "metadata": {},
   "outputs": [
    {
     "data": {
      "text/plain": [
       "array([0.13 , 0.15 , 0.155, 0.155, 0.16 , 0.16 , 0.165, 0.165, 0.17 ,\n",
       "       0.175, 0.175, 0.175, 0.18 , 0.19 , 0.195, 0.2  , 0.2  , 0.205,\n",
       "       0.205, 0.205, 0.21 , 0.21 , 0.215, 0.22 , 0.225, 0.23 , 0.235,\n",
       "       0.235, 0.235, 0.235])"
      ]
     },
     "execution_count": 162,
     "metadata": {},
     "output_type": "execute_result"
    }
   ],
   "source": [
    "_X[_range]"
   ]
  },
  {
   "cell_type": "code",
   "execution_count": 165,
   "metadata": {},
   "outputs": [
    {
     "data": {
      "text/plain": [
       "array([0.00067269, 0.000897  , 0.00108165, 0.00095803, 0.00134011,\n",
       "       0.00114867, 0.00141509, 0.00125054, 0.00203455, 0.00164065,\n",
       "       0.00219917, 0.00167556, 0.0019029 , 0.00287964, 0.00248829,\n",
       "       0.00279065, 0.00295012, 0.00375826, 0.0034723 , 0.00343145,\n",
       "       0.00351387, 0.00322105, 0.00449504, 0.00477254, 0.00416233,\n",
       "       0.0058984 , 0.00480888, 0.00658303, 0.00448206, 0.00625621])"
      ]
     },
     "execution_count": 165,
     "metadata": {},
     "output_type": "execute_result"
    }
   ],
   "source": [
    "_y[_range] * _weight * _X[_range].T"
   ]
  },
  {
   "cell_type": "code",
   "execution_count": 167,
   "metadata": {},
   "outputs": [
    {
     "data": {
      "text/plain": [
       "array([0.05612063, 0.06475458, 0.06691306, 0.06691306, 0.06907155,\n",
       "       0.06907155, 0.07123004, 0.07123004, 0.07338852, 0.07554701,\n",
       "       0.07554701, 0.07554701, 0.07770549, 0.08202247, 0.08418095,\n",
       "       0.08633944, 0.08633944, 0.08849792, 0.08849792, 0.08849792,\n",
       "       0.09065641, 0.09065641, 0.09281489, 0.09497338, 0.09713187,\n",
       "       0.09929035, 0.10144884, 0.10144884, 0.10144884, 0.10144884])"
      ]
     },
     "execution_count": 167,
     "metadata": {},
     "output_type": "execute_result"
    }
   ],
   "source": [
    "np.dot(np.dot(_y[_range], _weight), _X[_range].T)"
   ]
  },
  {
   "cell_type": "code",
   "execution_count": 170,
   "metadata": {},
   "outputs": [
    {
     "data": {
      "text/plain": [
       "array([0.29855667, 0.34448846, 0.35597141, 0.35597141, 0.36745436,\n",
       "       0.36745436, 0.37893731, 0.37893731, 0.39042026, 0.40190321,\n",
       "       0.40190321, 0.40190321, 0.41338616, 0.43635205, 0.447835  ,\n",
       "       0.45931795, 0.45931795, 0.4708009 , 0.4708009 , 0.4708009 ,\n",
       "       0.48228385, 0.48228385, 0.4937668 , 0.50524975, 0.51673269,\n",
       "       0.52821564, 0.53969859, 0.53969859, 0.53969859, 0.53969859])"
      ]
     },
     "execution_count": 170,
     "metadata": {},
     "output_type": "execute_result"
    }
   ],
   "source": [
    "np.dot(np.dot(_X[_range], _weight),_X[_range].T)"
   ]
  },
  {
   "cell_type": "code",
   "execution_count": null,
   "metadata": {},
   "outputs": [],
   "source": []
  },
  {
   "cell_type": "code",
   "execution_count": 173,
   "metadata": {},
   "outputs": [
    {
     "data": {
      "text/plain": [
       "matrix([[0.05612063, 0.06475458, 0.06691306, 0.06691306, 0.06907155,\n",
       "         0.06907155, 0.07123004, 0.07123004, 0.07338852, 0.07554701,\n",
       "         0.07554701, 0.07554701, 0.07770549, 0.08202247, 0.08418095,\n",
       "         0.08633944, 0.08633944, 0.08849792, 0.08849792, 0.08849792,\n",
       "         0.09065641, 0.09065641, 0.09281489, 0.09497338, 0.09713187,\n",
       "         0.09929035, 0.10144884, 0.10144884, 0.10144884, 0.10144884]])"
      ]
     },
     "execution_count": 173,
     "metadata": {},
     "output_type": "execute_result"
    }
   ],
   "source": [
    "np.dot(_y[_range], _weight) * _X_mat"
   ]
  },
  {
   "cell_type": "code",
   "execution_count": 186,
   "metadata": {},
   "outputs": [
    {
     "data": {
      "text/plain": [
       "matrix([[0.04992892],\n",
       "        [0.0576103 ],\n",
       "        [0.05953064],\n",
       "        [0.05953064],\n",
       "        [0.06145098],\n",
       "        [0.06145098],\n",
       "        [0.06337133],\n",
       "        [0.06337133],\n",
       "        [0.06529167],\n",
       "        [0.06721201],\n",
       "        [0.06721201],\n",
       "        [0.06721201],\n",
       "        [0.06913236],\n",
       "        [0.07297304],\n",
       "        [0.07489339],\n",
       "        [0.07681373],\n",
       "        [0.07681373],\n",
       "        [0.07873407],\n",
       "        [0.07873407],\n",
       "        [0.07873407],\n",
       "        [0.08065442],\n",
       "        [0.08065442],\n",
       "        [0.08257476],\n",
       "        [0.0844951 ],\n",
       "        [0.08641545],\n",
       "        [0.08833579],\n",
       "        [0.09025613],\n",
       "        [0.09025613],\n",
       "        [0.09025613],\n",
       "        [0.09025613]])"
      ]
     },
     "execution_count": 186,
     "metadata": {},
     "output_type": "execute_result"
    }
   ],
   "source": [
    "(np.dot(_X[_range], _weight) * _X_mat).I"
   ]
  },
  {
   "cell_type": "code",
   "execution_count": 187,
   "metadata": {},
   "outputs": [],
   "source": [
    "_A = np.dot(np.dot(_y[_range], _weight) * _X_mat, (np.dot(_X[_range], _weight) * _X_mat).I)"
   ]
  },
  {
   "cell_type": "code",
   "execution_count": 188,
   "metadata": {},
   "outputs": [
    {
     "data": {
      "text/plain": [
       "matrix([[0.18797314]])"
      ]
     },
     "execution_count": 188,
     "metadata": {},
     "output_type": "execute_result"
    }
   ],
   "source": [
    "_A"
   ]
  },
  {
   "cell_type": "code",
   "execution_count": 190,
   "metadata": {},
   "outputs": [
    {
     "data": {
      "text/plain": [
       "matrix([[0.02443651, 0.02819597, 0.02913584, 0.02913584, 0.0300757 ,\n",
       "         0.0300757 , 0.03101557, 0.03101557, 0.03195543, 0.0328953 ,\n",
       "         0.0328953 , 0.0328953 , 0.03383517, 0.0357149 , 0.03665476,\n",
       "         0.03759463, 0.03759463, 0.03853449, 0.03853449, 0.03853449,\n",
       "         0.03947436, 0.03947436, 0.04041423, 0.04135409, 0.04229396,\n",
       "         0.04323382, 0.04417369, 0.04417369, 0.04417369, 0.04417369]])"
      ]
     },
     "execution_count": 190,
     "metadata": {},
     "output_type": "execute_result"
    }
   ],
   "source": [
    "_A*_X[_range]"
   ]
  },
  {
   "cell_type": "code",
   "execution_count": 200,
   "metadata": {},
   "outputs": [
    {
     "data": {
      "text/plain": [
       "matrix([[0.02443651, 0.02819597, 0.02913584, 0.02913584, 0.0300757 ,\n",
       "         0.0300757 , 0.03101557, 0.03101557, 0.03195543, 0.0328953 ,\n",
       "         0.0328953 , 0.0328953 , 0.03383517, 0.0357149 , 0.03665476,\n",
       "         0.03759463, 0.03759463, 0.03853449, 0.03853449, 0.03853449,\n",
       "         0.03947436, 0.03947436, 0.04041423, 0.04135409, 0.04229396,\n",
       "         0.04323382, 0.04417369, 0.04417369, 0.04417369, 0.04417369]])"
      ]
     },
     "execution_count": 200,
     "metadata": {},
     "output_type": "execute_result"
    }
   ],
   "source": [
    "np.squeeze(_A*_X[_range]).reshape(-1)"
   ]
  },
  {
   "cell_type": "code",
   "execution_count": 204,
   "metadata": {},
   "outputs": [
    {
     "data": {
      "text/plain": [
       "array([0.02443651, 0.02819597, 0.02913584, 0.02913584, 0.0300757 ,\n",
       "       0.0300757 , 0.03101557, 0.03101557, 0.03195543, 0.0328953 ,\n",
       "       0.0328953 , 0.0328953 , 0.03383517, 0.0357149 , 0.03665476,\n",
       "       0.03759463, 0.03759463, 0.03853449, 0.03853449, 0.03853449,\n",
       "       0.03947436, 0.03947436, 0.04041423, 0.04135409, 0.04229396,\n",
       "       0.04323382, 0.04417369, 0.04417369, 0.04417369, 0.04417369])"
      ]
     },
     "execution_count": 204,
     "metadata": {},
     "output_type": "execute_result"
    }
   ],
   "source": [
    "np.asarray(_A*_X[_range]).reshape(-1)"
   ]
  },
  {
   "cell_type": "code",
   "execution_count": null,
   "metadata": {},
   "outputs": [],
   "source": []
  },
  {
   "cell_type": "code",
   "execution_count": 207,
   "metadata": {},
   "outputs": [
    {
     "data": {
      "text/plain": [
       "<matplotlib.collections.PathCollection at 0x15d12d48>"
      ]
     },
     "execution_count": 207,
     "metadata": {},
     "output_type": "execute_result"
    },
    {
     "data": {
      "image/png": "[encoded data removed]",
      "text/plain": [
       "<Figure size 432x288 with 1 Axes>"
      ]
     },
     "metadata": {
      "needs_background": "light"
     },
     "output_type": "display_data"
    }
   ],
   "source": [
    "plt.scatter(np.asarray(_A*_X[_range]).reshape(-1), _y[_range])\n",
    "plt.scatter(_X[_range], _y[_range], color = 'red')"
   ]
  },
  {
   "cell_type": "code",
   "execution_count": null,
   "metadata": {},
   "outputs": [],
   "source": []
  },
  {
   "cell_type": "code",
   "execution_count": 179,
   "metadata": {},
   "outputs": [
    {
     "data": {
      "text/plain": [
       "array([0.13 , 0.15 , 0.155, 0.155, 0.16 , 0.16 , 0.165, 0.165, 0.17 ,\n",
       "       0.175, 0.175, 0.175, 0.18 , 0.19 , 0.195, 0.2  , 0.2  , 0.205,\n",
       "       0.205, 0.205, 0.21 , 0.21 , 0.215, 0.22 , 0.225, 0.23 , 0.235,\n",
       "       0.235, 0.235, 0.235])"
      ]
     },
     "execution_count": 179,
     "metadata": {},
     "output_type": "execute_result"
    }
   ],
   "source": []
  },
  {
   "cell_type": "code",
   "execution_count": 174,
   "metadata": {},
   "outputs": [
    {
     "data": {
      "text/plain": [
       "matrix([[0.13 , 0.15 , 0.155, 0.155, 0.16 , 0.16 , 0.165, 0.165, 0.17 ,\n",
       "         0.175, 0.175, 0.175, 0.18 , 0.19 , 0.195, 0.2  , 0.2  , 0.205,\n",
       "         0.205, 0.205, 0.21 , 0.21 , 0.215, 0.22 , 0.225, 0.23 , 0.235,\n",
       "         0.235, 0.235, 0.235]])"
      ]
     },
     "execution_count": 174,
     "metadata": {},
     "output_type": "execute_result"
    }
   ],
   "source": [
    "_X_mat"
   ]
  },
  {
   "cell_type": "code",
   "execution_count": null,
   "metadata": {},
   "outputs": [],
   "source": []
  },
  {
   "cell_type": "code",
   "execution_count": null,
   "metadata": {},
   "outputs": [],
   "source": []
  },
  {
   "cell_type": "code",
   "execution_count": null,
   "metadata": {},
   "outputs": [],
   "source": []
  },
  {
   "cell_type": "code",
   "execution_count": null,
   "metadata": {},
   "outputs": [],
   "source": []
  },
  {
   "cell_type": "code",
   "execution_count": null,
   "metadata": {},
   "outputs": [],
   "source": []
  },
  {
   "cell_type": "code",
   "execution_count": null,
   "metadata": {},
   "outputs": [],
   "source": []
  },
  {
   "cell_type": "code",
   "execution_count": null,
   "metadata": {},
   "outputs": [],
   "source": []
  },
  {
   "cell_type": "code",
   "execution_count": 161,
   "metadata": {},
   "outputs": [
    {
     "ename": "ValueError",
     "evalue": "shapes (1,1) and (30,1) not aligned: 1 (dim 1) != 30 (dim 0)",
     "output_type": "error",
     "traceback": [
      "\u001b[1;31m---------------------------------------------------------------------------\u001b[0m",
      "\u001b[1;31mValueError\u001b[0m                                Traceback (most recent call last)",
      "\u001b[1;32m<ipython-input-161-a2bde97125f3>\u001b[0m in \u001b[0;36m<module>\u001b[1;34m\u001b[0m\n\u001b[1;32m----> 1\u001b[1;33m \u001b[0mnp\u001b[0m\u001b[1;33m.\u001b[0m\u001b[0mdot\u001b[0m\u001b[1;33m(\u001b[0m\u001b[0m_y_mat\u001b[0m\u001b[1;33m,\u001b[0m \u001b[0m_weight\u001b[0m\u001b[1;33m)\u001b[0m \u001b[1;33m*\u001b[0m \u001b[0m_X_mat\u001b[0m\u001b[1;33m.\u001b[0m\u001b[0mT\u001b[0m\u001b[1;33m\u001b[0m\u001b[1;33m\u001b[0m\u001b[0m\n\u001b[0m",
      "\u001b[1;32m~\\Anaconda3\\lib\\site-packages\\numpy\\matrixlib\\defmatrix.py\u001b[0m in \u001b[0;36m__mul__\u001b[1;34m(self, other)\u001b[0m\n\u001b[0;32m    218\u001b[0m         \u001b[1;32mif\u001b[0m \u001b[0misinstance\u001b[0m\u001b[1;33m(\u001b[0m\u001b[0mother\u001b[0m\u001b[1;33m,\u001b[0m \u001b[1;33m(\u001b[0m\u001b[0mN\u001b[0m\u001b[1;33m.\u001b[0m\u001b[0mndarray\u001b[0m\u001b[1;33m,\u001b[0m \u001b[0mlist\u001b[0m\u001b[1;33m,\u001b[0m \u001b[0mtuple\u001b[0m\u001b[1;33m)\u001b[0m\u001b[1;33m)\u001b[0m \u001b[1;33m:\u001b[0m\u001b[1;33m\u001b[0m\u001b[1;33m\u001b[0m\u001b[0m\n\u001b[0;32m    219\u001b[0m             \u001b[1;31m# This promotes 1-D vectors to row vectors\u001b[0m\u001b[1;33m\u001b[0m\u001b[1;33m\u001b[0m\u001b[1;33m\u001b[0m\u001b[0m\n\u001b[1;32m--> 220\u001b[1;33m             \u001b[1;32mreturn\u001b[0m \u001b[0mN\u001b[0m\u001b[1;33m.\u001b[0m\u001b[0mdot\u001b[0m\u001b[1;33m(\u001b[0m\u001b[0mself\u001b[0m\u001b[1;33m,\u001b[0m \u001b[0masmatrix\u001b[0m\u001b[1;33m(\u001b[0m\u001b[0mother\u001b[0m\u001b[1;33m)\u001b[0m\u001b[1;33m)\u001b[0m\u001b[1;33m\u001b[0m\u001b[1;33m\u001b[0m\u001b[0m\n\u001b[0m\u001b[0;32m    221\u001b[0m         \u001b[1;32mif\u001b[0m \u001b[0misscalar\u001b[0m\u001b[1;33m(\u001b[0m\u001b[0mother\u001b[0m\u001b[1;33m)\u001b[0m \u001b[1;32mor\u001b[0m \u001b[1;32mnot\u001b[0m \u001b[0mhasattr\u001b[0m\u001b[1;33m(\u001b[0m\u001b[0mother\u001b[0m\u001b[1;33m,\u001b[0m \u001b[1;34m'__rmul__'\u001b[0m\u001b[1;33m)\u001b[0m \u001b[1;33m:\u001b[0m\u001b[1;33m\u001b[0m\u001b[1;33m\u001b[0m\u001b[0m\n\u001b[0;32m    222\u001b[0m             \u001b[1;32mreturn\u001b[0m \u001b[0mN\u001b[0m\u001b[1;33m.\u001b[0m\u001b[0mdot\u001b[0m\u001b[1;33m(\u001b[0m\u001b[0mself\u001b[0m\u001b[1;33m,\u001b[0m \u001b[0mother\u001b[0m\u001b[1;33m)\u001b[0m\u001b[1;33m\u001b[0m\u001b[1;33m\u001b[0m\u001b[0m\n",
      "\u001b[1;32m<__array_function__ internals>\u001b[0m in \u001b[0;36mdot\u001b[1;34m(*args, **kwargs)\u001b[0m\n",
      "\u001b[1;31mValueError\u001b[0m: shapes (1,1) and (30,1) not aligned: 1 (dim 1) != 30 (dim 0)"
     ]
    }
   ],
   "source": [
    "np.dot(_y_mat, _weight) * _X_mat.T"
   ]
  },
  {
   "cell_type": "code",
   "execution_count": 158,
   "metadata": {},
   "outputs": [
    {
     "data": {
      "text/plain": [
       "matrix([[0.43169719]])"
      ]
     },
     "execution_count": 158,
     "metadata": {},
     "output_type": "execute_result"
    }
   ],
   "source": [
    "_y_mat * np.reshape(_weight, (-1,1))"
   ]
  },
  {
   "cell_type": "code",
   "execution_count": 157,
   "metadata": {},
   "outputs": [
    {
     "data": {
      "text/plain": [
       "array([[0.39804347],\n",
       "       [0.39866465],\n",
       "       [0.39876458],\n",
       "       [0.39876458],\n",
       "       [0.39884231],\n",
       "       [0.39884231],\n",
       "       [0.39889785],\n",
       "       [0.39889785],\n",
       "       [0.39893117],\n",
       "       [0.39894228],\n",
       "       [0.39894228],\n",
       "       [0.39894228],\n",
       "       [0.39893117],\n",
       "       [0.39884231],\n",
       "       [0.39876458],\n",
       "       [0.39866465],\n",
       "       [0.39866465],\n",
       "       [0.39854256],\n",
       "       [0.39854256],\n",
       "       [0.39854256],\n",
       "       [0.39839832],\n",
       "       [0.39839832],\n",
       "       [0.39823194],\n",
       "       [0.39804347],\n",
       "       [0.39783294],\n",
       "       [0.39760037],\n",
       "       [0.3973458 ],\n",
       "       [0.3973458 ],\n",
       "       [0.3973458 ],\n",
       "       [0.3973458 ]])"
      ]
     },
     "execution_count": 157,
     "metadata": {},
     "output_type": "execute_result"
    }
   ],
   "source": [
    "np.reshape(_weight, (-1,1))"
   ]
  },
  {
   "cell_type": "code",
   "execution_count": null,
   "metadata": {},
   "outputs": [],
   "source": []
  },
  {
   "cell_type": "code",
   "execution_count": null,
   "metadata": {},
   "outputs": [],
   "source": []
  },
  {
   "cell_type": "code",
   "execution_count": null,
   "metadata": {},
   "outputs": [],
   "source": []
  },
  {
   "cell_type": "code",
   "execution_count": null,
   "metadata": {},
   "outputs": [],
   "source": []
  },
  {
   "cell_type": "code",
   "execution_count": null,
   "metadata": {},
   "outputs": [],
   "source": []
  },
  {
   "cell_type": "code",
   "execution_count": null,
   "metadata": {},
   "outputs": [],
   "source": []
  },
  {
   "cell_type": "code",
   "execution_count": null,
   "metadata": {},
   "outputs": [],
   "source": []
  },
  {
   "cell_type": "code",
   "execution_count": null,
   "metadata": {},
   "outputs": [],
   "source": []
  },
  {
   "cell_type": "code",
   "execution_count": null,
   "metadata": {},
   "outputs": [],
   "source": []
  },
  {
   "cell_type": "code",
   "execution_count": null,
   "metadata": {},
   "outputs": [],
   "source": []
  },
  {
   "cell_type": "code",
   "execution_count": null,
   "metadata": {},
   "outputs": [],
   "source": []
  },
  {
   "cell_type": "code",
   "execution_count": null,
   "metadata": {},
   "outputs": [],
   "source": []
  },
  {
   "cell_type": "code",
   "execution_count": 38,
   "metadata": {},
   "outputs": [
    {
     "data": {
      "text/plain": [
       "matrix([[1.   , 0.455],\n",
       "        [1.   , 0.35 ],\n",
       "        [1.   , 0.53 ],\n",
       "        ...,\n",
       "        [1.   , 0.59 ],\n",
       "        [1.   , 0.59 ],\n",
       "        [1.   , 0.595]])"
      ]
     },
     "execution_count": 38,
     "metadata": {},
     "output_type": "execute_result"
    }
   ],
   "source": [
    "# horizontal stacking\n",
    "X = np.hstack((one.T, mcolA.T))\n",
    "X"
   ]
  },
  {
   "cell_type": "code",
   "execution_count": 39,
   "metadata": {},
   "outputs": [],
   "source": [
    "from tqdm import tqdm"
   ]
  },
  {
   "cell_type": "code",
   "execution_count": 42,
   "metadata": {},
   "outputs": [
    {
     "name": "stderr",
     "output_type": "stream",
     "text": [
      "100%|██████████| 1000/1000 [01:08<00:00, 14.56it/s]\n"
     ]
    }
   ],
   "source": [
    "def kernel(point, xmat, k):\n",
    "    m, n = np.shape(xmat)\n",
    "    weights = np.mat(np.eye((m)))\n",
    "    \n",
    "    for j in range(m):\n",
    "        diff = point - X[j]\n",
    "        weights[j, j] = np.exp(diff * diff.T / (-2.0 * k**2))\n",
    "        \n",
    "    return weights\n",
    "\n",
    "\n",
    "def localWeight(point, xmat, ymat, k):\n",
    "    weight = kernel(point, xmat, k)\n",
    "    \n",
    "    W = (X.T * (weight*X)).I * (X.T * weight * ymat.T)\n",
    "    return W\n",
    "\n",
    "\n",
    "def localWeightRegression(xmat, ymat, k):\n",
    "    m,n = np.shape(xmat)\n",
    "    y_hat = np.zeros(m)\n",
    "    \n",
    "    for i in tqdm(range(m)):\n",
    "        y_hat[i] = xmat[i] * localWeight(xmat[i], xmat, ymat, k)\n",
    "        \n",
    "    return y_hat\n",
    "    \n",
    "    \n",
    "    \n",
    "\n",
    "y_hat = localWeightRegression(X, mcolB, 0.2)"
   ]
  },
  {
   "cell_type": "code",
   "execution_count": 43,
   "metadata": {},
   "outputs": [
    {
     "data": {
      "text/plain": [
       "[<matplotlib.lines.Line2D at 0x127f94c8>]"
      ]
     },
     "execution_count": 43,
     "metadata": {},
     "output_type": "execute_result"
    },
    {
     "data": {
      "image/png": "[encoded data removed]",
      "text/plain": [
       "<Figure size 432x288 with 1 Axes>"
      ]
     },
     "metadata": {
      "needs_background": "light"
     },
     "output_type": "display_data"
    }
   ],
   "source": [
    "Xsort = X.copy()\n",
    "Xsort.sort(axis=0)\n",
    "plt.scatter(colA, colB, color = 'blue')\n",
    "plt.plot(Xsort[:, 1], y_hat[X[:, 1].argsort(0)], color = 'red')"
   ]
  },
  {
   "cell_type": "code",
   "execution_count": null,
   "metadata": {},
   "outputs": [],
   "source": []
  },
  {
   "cell_type": "code",
   "execution_count": null,
   "metadata": {},
   "outputs": [],
   "source": []
  },
  {
   "cell_type": "code",
   "execution_count": null,
   "metadata": {},
   "outputs": [],
   "source": []
  },
  {
   "cell_type": "code",
   "execution_count": 41,
   "metadata": {},
   "outputs": [
    {
     "data": {
      "text/plain": [
       "[<matplotlib.lines.Line2D at 0x1201df88>]"
      ]
     },
     "execution_count": 41,
     "metadata": {},
     "output_type": "execute_result"
    },
    {
     "data": {
      "image/png": "[encoded data removed]",
      "text/plain": [
       "<Figure size 432x288 with 1 Axes>"
      ]
     },
     "metadata": {
      "needs_background": "light"
     },
     "output_type": "display_data"
    }
   ],
   "source": [
    "Xsort = X.copy()\n",
    "Xsort.sort(axis=0)\n",
    "plt.scatter(colA, colB, color = 'blue')\n",
    "plt.plot(Xsort[:, 1], y_hat[X[:, 1].argsort(0)], color = 'red')"
   ]
  },
  {
   "cell_type": "code",
   "execution_count": 20,
   "metadata": {},
   "outputs": [
    {
     "data": {
      "text/plain": [
       "array([0.45341464, 0.36001175, 0.49879805, ..., 0.60924112, 0.59390492,\n",
       "       0.71474998])"
      ]
     },
     "execution_count": 20,
     "metadata": {},
     "output_type": "execute_result"
    }
   ],
   "source": [
    "y_hat"
   ]
  },
  {
   "cell_type": "code",
   "execution_count": null,
   "metadata": {},
   "outputs": [],
   "source": []
  },
  {
   "cell_type": "code",
   "execution_count": 28,
   "metadata": {},
   "outputs": [],
   "source": [
    "def kernel(point, xmat, k):\n",
    "    m, n = np.shape(xmat)\n",
    "    weights = np.mat(np.eye((m)))\n",
    "    \n",
    "    for j in range(m):\n",
    "        diff = point - X[j]\n",
    "        weights[j, j] = np.exp(diff * diff.T / (-2.0 * k**2))\n",
    "        \n",
    "    return weights"
   ]
  },
  {
   "cell_type": "code",
   "execution_count": 29,
   "metadata": {},
   "outputs": [
    {
     "data": {
      "text/plain": [
       "matrix([[1., 0., 0., ..., 0., 0., 0.],\n",
       "        [0., 1., 0., ..., 0., 0., 0.],\n",
       "        [0., 0., 1., ..., 0., 0., 0.],\n",
       "        ...,\n",
       "        [0., 0., 0., ..., 1., 0., 0.],\n",
       "        [0., 0., 0., ..., 0., 1., 0.],\n",
       "        [0., 0., 0., ..., 0., 0., 1.]])"
      ]
     },
     "execution_count": 29,
     "metadata": {},
     "output_type": "execute_result"
    }
   ],
   "source": [
    "np.mat(np.eye((1000)))"
   ]
  },
  {
   "cell_type": "code",
   "execution_count": 31,
   "metadata": {},
   "outputs": [
    {
     "data": {
      "text/plain": [
       "matrix([[1.   , 0.455]])"
      ]
     },
     "execution_count": 31,
     "metadata": {},
     "output_type": "execute_result"
    }
   ],
   "source": [
    "X[0]"
   ]
  },
  {
   "cell_type": "code",
   "execution_count": 208,
   "metadata": {},
   "outputs": [
    {
     "ename": "TypeError",
     "evalue": "kernel() missing 2 required positional arguments: 'xmat' and 'k'",
     "output_type": "error",
     "traceback": [
      "\u001b[1;31m---------------------------------------------------------------------------\u001b[0m",
      "\u001b[1;31mTypeError\u001b[0m                                 Traceback (most recent call last)",
      "\u001b[1;32m<ipython-input-208-13158e038864>\u001b[0m in \u001b[0;36m<module>\u001b[1;34m\u001b[0m\n\u001b[1;32m----> 1\u001b[1;33m \u001b[0mkernel\u001b[0m\u001b[1;33m(\u001b[0m\u001b[0m_X\u001b[0m\u001b[1;33m[\u001b[0m\u001b[1;36m12\u001b[0m\u001b[1;33m]\u001b[0m\u001b[1;33m)\u001b[0m\u001b[1;33m\u001b[0m\u001b[1;33m\u001b[0m\u001b[0m\n\u001b[0m",
      "\u001b[1;31mTypeError\u001b[0m: kernel() missing 2 required positional arguments: 'xmat' and 'k'"
     ]
    }
   ],
   "source": [
    "kernel(_X[12])"
   ]
  },
  {
   "cell_type": "code",
   "execution_count": 209,
   "metadata": {},
   "outputs": [
    {
     "data": {
      "text/plain": [
       "0.175"
      ]
     },
     "execution_count": 209,
     "metadata": {},
     "output_type": "execute_result"
    }
   ],
   "source": [
    "_X[12]"
   ]
  },
  {
   "cell_type": "code",
   "execution_count": 211,
   "metadata": {},
   "outputs": [
    {
     "data": {
      "text/plain": [
       "matrix([[1.  , 0.18]])"
      ]
     },
     "execution_count": 211,
     "metadata": {},
     "output_type": "execute_result"
    }
   ],
   "source": [
    "_stacked[12]"
   ]
  },
  {
   "cell_type": "code",
   "execution_count": 212,
   "metadata": {},
   "outputs": [
    {
     "data": {
      "text/plain": [
       "matrix([[1.   , 0.175]])"
      ]
     },
     "execution_count": 212,
     "metadata": {},
     "output_type": "execute_result"
    }
   ],
   "source": [
    "_stacked[11]"
   ]
  },
  {
   "cell_type": "code",
   "execution_count": null,
   "metadata": {},
   "outputs": [],
   "source": []
  }
 ],
 "metadata": {
  "kernelspec": {
   "display_name": "Python 3",
   "language": "python",
   "name": "python3"
  },
  "language_info": {
   "codemirror_mode": {
    "name": "ipython",
    "version": 3
   },
   "file_extension": ".py",
   "mimetype": "text/x-python",
   "name": "python",
   "nbconvert_exporter": "python",
   "pygments_lexer": "ipython3",
   "version": "3.7.4"
  }
 },
 "nbformat": 4,
 "nbformat_minor": 4
}
