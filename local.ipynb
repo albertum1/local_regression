{
 "cells": [
  {
   "cell_type": "markdown",
   "metadata": {},
   "source": [
    "Looking to plot linear, poly, and local weighted regression line on scatter"
   ]
  },
  {
   "cell_type": "code",
   "execution_count": 1,
   "metadata": {},
   "outputs": [],
   "source": [
    "import numpy as np\n",
    "import pandas as pd\n",
    "import matplotlib.pyplot as plt\n",
    "import seaborn as sns\n",
    "%matplotlib inline\n",
    "\n",
    "from tqdm import tqdm"
   ]
  },
  {
   "cell_type": "code",
   "execution_count": 2,
   "metadata": {},
   "outputs": [
    {
     "data": {
      "text/html": [
       "<div>\n",
       "<style scoped>\n",
       "    .dataframe tbody tr th:only-of-type {\n",
       "        vertical-align: middle;\n",
       "    }\n",
       "\n",
       "    .dataframe tbody tr th {\n",
       "        vertical-align: top;\n",
       "    }\n",
       "\n",
       "    .dataframe thead th {\n",
       "        text-align: right;\n",
       "    }\n",
       "</style>\n",
       "<table border=\"1\" class=\"dataframe\">\n",
       "  <thead>\n",
       "    <tr style=\"text-align: right;\">\n",
       "      <th></th>\n",
       "      <th>sex</th>\n",
       "      <th>length</th>\n",
       "      <th>diameter</th>\n",
       "      <th>height</th>\n",
       "      <th>whole_weight</th>\n",
       "      <th>shucked_weight</th>\n",
       "      <th>viscera_weight</th>\n",
       "      <th>shell_weight</th>\n",
       "      <th>rings</th>\n",
       "    </tr>\n",
       "  </thead>\n",
       "  <tbody>\n",
       "    <tr>\n",
       "      <th>236</th>\n",
       "      <td>I</td>\n",
       "      <td>0.075</td>\n",
       "      <td>0.055</td>\n",
       "      <td>0.010</td>\n",
       "      <td>0.0020</td>\n",
       "      <td>0.0010</td>\n",
       "      <td>0.0005</td>\n",
       "      <td>0.0015</td>\n",
       "      <td>1</td>\n",
       "    </tr>\n",
       "    <tr>\n",
       "      <th>238</th>\n",
       "      <td>I</td>\n",
       "      <td>0.110</td>\n",
       "      <td>0.090</td>\n",
       "      <td>0.030</td>\n",
       "      <td>0.0080</td>\n",
       "      <td>0.0025</td>\n",
       "      <td>0.0020</td>\n",
       "      <td>0.0030</td>\n",
       "      <td>3</td>\n",
       "    </tr>\n",
       "    <tr>\n",
       "      <th>237</th>\n",
       "      <td>I</td>\n",
       "      <td>0.130</td>\n",
       "      <td>0.100</td>\n",
       "      <td>0.030</td>\n",
       "      <td>0.0130</td>\n",
       "      <td>0.0045</td>\n",
       "      <td>0.0030</td>\n",
       "      <td>0.0040</td>\n",
       "      <td>3</td>\n",
       "    </tr>\n",
       "    <tr>\n",
       "      <th>719</th>\n",
       "      <td>I</td>\n",
       "      <td>0.150</td>\n",
       "      <td>0.100</td>\n",
       "      <td>0.025</td>\n",
       "      <td>0.0150</td>\n",
       "      <td>0.0045</td>\n",
       "      <td>0.0040</td>\n",
       "      <td>0.0050</td>\n",
       "      <td>2</td>\n",
       "    </tr>\n",
       "    <tr>\n",
       "      <th>696</th>\n",
       "      <td>I</td>\n",
       "      <td>0.155</td>\n",
       "      <td>0.105</td>\n",
       "      <td>0.050</td>\n",
       "      <td>0.0175</td>\n",
       "      <td>0.0050</td>\n",
       "      <td>0.0035</td>\n",
       "      <td>0.0050</td>\n",
       "      <td>4</td>\n",
       "    </tr>\n",
       "    <tr>\n",
       "      <th>...</th>\n",
       "      <td>...</td>\n",
       "      <td>...</td>\n",
       "      <td>...</td>\n",
       "      <td>...</td>\n",
       "      <td>...</td>\n",
       "      <td>...</td>\n",
       "      <td>...</td>\n",
       "      <td>...</td>\n",
       "      <td>...</td>\n",
       "    </tr>\n",
       "    <tr>\n",
       "      <th>165</th>\n",
       "      <td>M</td>\n",
       "      <td>0.725</td>\n",
       "      <td>0.570</td>\n",
       "      <td>0.190</td>\n",
       "      <td>2.5500</td>\n",
       "      <td>1.0705</td>\n",
       "      <td>0.4830</td>\n",
       "      <td>0.7250</td>\n",
       "      <td>14</td>\n",
       "    </tr>\n",
       "    <tr>\n",
       "      <th>891</th>\n",
       "      <td>M</td>\n",
       "      <td>0.730</td>\n",
       "      <td>0.595</td>\n",
       "      <td>0.230</td>\n",
       "      <td>2.8255</td>\n",
       "      <td>1.1465</td>\n",
       "      <td>0.4190</td>\n",
       "      <td>0.8970</td>\n",
       "      <td>17</td>\n",
       "    </tr>\n",
       "    <tr>\n",
       "      <th>478</th>\n",
       "      <td>M</td>\n",
       "      <td>0.735</td>\n",
       "      <td>0.590</td>\n",
       "      <td>0.225</td>\n",
       "      <td>1.7560</td>\n",
       "      <td>0.6370</td>\n",
       "      <td>0.3405</td>\n",
       "      <td>0.5800</td>\n",
       "      <td>21</td>\n",
       "    </tr>\n",
       "    <tr>\n",
       "      <th>334</th>\n",
       "      <td>F</td>\n",
       "      <td>0.740</td>\n",
       "      <td>0.600</td>\n",
       "      <td>0.195</td>\n",
       "      <td>1.9740</td>\n",
       "      <td>0.5980</td>\n",
       "      <td>0.4085</td>\n",
       "      <td>0.7100</td>\n",
       "      <td>16</td>\n",
       "    </tr>\n",
       "    <tr>\n",
       "      <th>358</th>\n",
       "      <td>M</td>\n",
       "      <td>0.745</td>\n",
       "      <td>0.585</td>\n",
       "      <td>0.215</td>\n",
       "      <td>2.4990</td>\n",
       "      <td>0.9265</td>\n",
       "      <td>0.4720</td>\n",
       "      <td>0.7000</td>\n",
       "      <td>17</td>\n",
       "    </tr>\n",
       "  </tbody>\n",
       "</table>\n",
       "<p>1000 rows × 9 columns</p>\n",
       "</div>"
      ],
      "text/plain": [
       "    sex  length  diameter  height  whole_weight  shucked_weight  \\\n",
       "236   I   0.075     0.055   0.010        0.0020          0.0010   \n",
       "238   I   0.110     0.090   0.030        0.0080          0.0025   \n",
       "237   I   0.130     0.100   0.030        0.0130          0.0045   \n",
       "719   I   0.150     0.100   0.025        0.0150          0.0045   \n",
       "696   I   0.155     0.105   0.050        0.0175          0.0050   \n",
       "..   ..     ...       ...     ...           ...             ...   \n",
       "165   M   0.725     0.570   0.190        2.5500          1.0705   \n",
       "891   M   0.730     0.595   0.230        2.8255          1.1465   \n",
       "478   M   0.735     0.590   0.225        1.7560          0.6370   \n",
       "334   F   0.740     0.600   0.195        1.9740          0.5980   \n",
       "358   M   0.745     0.585   0.215        2.4990          0.9265   \n",
       "\n",
       "     viscera_weight  shell_weight  rings  \n",
       "236          0.0005        0.0015      1  \n",
       "238          0.0020        0.0030      3  \n",
       "237          0.0030        0.0040      3  \n",
       "719          0.0040        0.0050      2  \n",
       "696          0.0035        0.0050      4  \n",
       "..              ...           ...    ...  \n",
       "165          0.4830        0.7250     14  \n",
       "891          0.4190        0.8970     17  \n",
       "478          0.3405        0.5800     21  \n",
       "334          0.4085        0.7100     16  \n",
       "358          0.4720        0.7000     17  \n",
       "\n",
       "[1000 rows x 9 columns]"
      ]
     },
     "execution_count": 2,
     "metadata": {},
     "output_type": "execute_result"
    }
   ],
   "source": [
    "data = pd.read_csv('abalone.data',header=None, nrows = 1000)\n",
    "data.columns = ['sex', 'length', 'diameter', 'height', 'whole_weight', 'shucked_weight', 'viscera_weight', 'shell_weight', 'rings']\n",
    "data.sort_values(by='length', inplace=True)\n",
    "data"
   ]
  },
  {
   "cell_type": "code",
   "execution_count": 3,
   "metadata": {},
   "outputs": [
    {
     "data": {
      "image/png": "[encoded data removed]",
      "text/plain": [
       "<Figure size 432x288 with 1 Axes>"
      ]
     },
     "metadata": {
      "needs_background": "light"
     },
     "output_type": "display_data"
    }
   ],
   "source": [
    "_X = np.array(data['length'])\n",
    "_y = np.array(data['whole_weight'])\n",
    "plt.scatter(_X, _y)\n",
    "plt.title('Abalone weight vs length')\n",
    "plt.xlabel('Length')\n",
    "plt.ylabel('Weight');"
   ]
  },
  {
   "cell_type": "markdown",
   "metadata": {},
   "source": [
    "---"
   ]
  },
  {
   "cell_type": "code",
   "execution_count": 4,
   "metadata": {},
   "outputs": [],
   "source": [
    "# adding feature intercept\n",
    "_X_with_intercept = np.array([np.power(_X, p) for p in range(2)]).T"
   ]
  },
  {
   "cell_type": "code",
   "execution_count": 5,
   "metadata": {},
   "outputs": [
    {
     "data": {
      "text/plain": [
       "array([[1.   , 0.075],\n",
       "       [1.   , 0.11 ],\n",
       "       [1.   , 0.13 ],\n",
       "       ...,\n",
       "       [1.   , 0.735],\n",
       "       [1.   , 0.74 ],\n",
       "       [1.   , 0.745]])"
      ]
     },
     "execution_count": 5,
     "metadata": {},
     "output_type": "execute_result"
    }
   ],
   "source": [
    "_X_with_intercept"
   ]
  },
  {
   "cell_type": "code",
   "execution_count": 6,
   "metadata": {},
   "outputs": [
    {
     "data": {
      "text/plain": [
       "(1000, 2)"
      ]
     },
     "execution_count": 6,
     "metadata": {},
     "output_type": "execute_result"
    }
   ],
   "source": [
    "_X_with_intercept.shape"
   ]
  },
  {
   "cell_type": "code",
   "execution_count": 7,
   "metadata": {},
   "outputs": [
    {
     "data": {
      "text/plain": [
       "(2, 1000)"
      ]
     },
     "execution_count": 7,
     "metadata": {},
     "output_type": "execute_result"
    }
   ],
   "source": [
    "_X_with_intercept.T.shape"
   ]
  },
  {
   "cell_type": "code",
   "execution_count": 8,
   "metadata": {},
   "outputs": [
    {
     "data": {
      "text/plain": [
       "array([[1.   , 1.   , 1.   , ..., 1.   , 1.   , 1.   ],\n",
       "       [0.075, 0.11 , 0.13 , ..., 0.735, 0.74 , 0.745]])"
      ]
     },
     "execution_count": 8,
     "metadata": {},
     "output_type": "execute_result"
    }
   ],
   "source": [
    "_X_with_intercept.T"
   ]
  },
  {
   "cell_type": "code",
   "execution_count": 9,
   "metadata": {},
   "outputs": [
    {
     "data": {
      "text/plain": [
       "array([-0.99446296,  3.48551089])"
      ]
     },
     "execution_count": 9,
     "metadata": {},
     "output_type": "execute_result"
    }
   ],
   "source": [
    "_Xt_X_inv = np.linalg.pinv(_X_with_intercept.T @ _X_with_intercept)\n",
    "_Xt_y = _X_with_intercept.T @ _y\n",
    "_beta = _Xt_X_inv @ _Xt_y\n",
    "_beta"
   ]
  },
  {
   "cell_type": "code",
   "execution_count": 10,
   "metadata": {},
   "outputs": [
    {
     "data": {
      "image/png": "[encoded data removed]",
      "text/plain": [
       "<Figure size 432x288 with 1 Axes>"
      ]
     },
     "metadata": {
      "needs_background": "light"
     },
     "output_type": "display_data"
    }
   ],
   "source": [
    "y_hat = _beta @ _X_with_intercept.T\n",
    "plt.plot(_X, y_hat, color = 'r')\n",
    "plt.scatter(_X, _y);"
   ]
  },
  {
   "cell_type": "markdown",
   "metadata": {},
   "source": [
    "---"
   ]
  },
  {
   "cell_type": "code",
   "execution_count": 11,
   "metadata": {},
   "outputs": [],
   "source": [
    "# adding polynomial feature with intercept\n",
    "def polynomial_degree(x, degree= 1):\n",
    "    \"\"\"\n",
    "    returns polynomial features for one variable\n",
    "    \"\"\"\n",
    "    \n",
    "    array = np.array([np.power(x, p) for p in range(degree + 1)])\n",
    "    \n",
    "    return array.T"
   ]
  },
  {
   "cell_type": "code",
   "execution_count": 12,
   "metadata": {},
   "outputs": [],
   "source": [
    "_X_poly = polynomial_degree(_X, 2)"
   ]
  },
  {
   "cell_type": "code",
   "execution_count": 13,
   "metadata": {},
   "outputs": [
    {
     "data": {
      "text/plain": [
       "array([ 0.38285528, -3.07171752,  7.2131967 ])"
      ]
     },
     "execution_count": 13,
     "metadata": {},
     "output_type": "execute_result"
    }
   ],
   "source": [
    "_Xt_X_inv = np.linalg.pinv(_X_poly.T @ _X_poly)\n",
    "_Xt_y = _X_poly.T @ _y\n",
    "_beta = _Xt_X_inv @ _Xt_y\n",
    "_beta"
   ]
  },
  {
   "cell_type": "code",
   "execution_count": 15,
   "metadata": {},
   "outputs": [
    {
     "data": {
      "image/png": "[encoded data removed]",
      "text/plain": [
       "<Figure size 432x288 with 1 Axes>"
      ]
     },
     "metadata": {
      "needs_background": "light"
     },
     "output_type": "display_data"
    }
   ],
   "source": [
    "y_hat = _beta @ _X_poly.T\n",
    "plt.plot(_X, y_hat, color = 'r', label = 'poly fit')\n",
    "plt.scatter(_X, _y)\n",
    "plt.legend(loc='upper left')\n",
    "plt.title('Abalone weight vs length')\n",
    "plt.xlabel('length')\n",
    "plt.ylabel('weight');"
   ]
  },
  {
   "cell_type": "markdown",
   "metadata": {},
   "source": [
    "---"
   ]
  },
  {
   "cell_type": "code",
   "execution_count": null,
   "metadata": {},
   "outputs": [],
   "source": []
  },
  {
   "cell_type": "code",
   "execution_count": 16,
   "metadata": {},
   "outputs": [],
   "source": [
    "# weighted polynomial regression\n",
    "_X_mat = np.mat(_X_poly)\n",
    "_y_mat = np.mat(_y)"
   ]
  },
  {
   "cell_type": "code",
   "execution_count": 17,
   "metadata": {},
   "outputs": [],
   "source": [
    "weights = np.mat(np.eye((len(_X_mat))))"
   ]
  },
  {
   "cell_type": "code",
   "execution_count": 18,
   "metadata": {},
   "outputs": [],
   "source": [
    "for j in range(1000):\n",
    "    # calculate difference off first entry\n",
    "    diff = _X_mat[0] - _X_mat[j]\n",
    "    weights[j, j] = np.exp(np.power(diff @ diff.T,2) / (-2 * 0.05**2))\n",
    "    \n",
    "W = np.linalg.pinv(_X_mat.T @ (weights @ _X_mat)) @ (_X_mat.T @ weights @ _y_mat.T)\n",
    "y_hat = np.asarray(_X_mat @ W).reshape(-1)"
   ]
  },
  {
   "cell_type": "code",
   "execution_count": 19,
   "metadata": {},
   "outputs": [
    {
     "data": {
      "text/plain": [
       "<matplotlib.collections.PathCollection at 0x140f5c48>"
      ]
     },
     "execution_count": 19,
     "metadata": {},
     "output_type": "execute_result"
    },
    {
     "data": {
      "image/png": "[encoded data removed]",
      "text/plain": [
       "<Figure size 432x288 with 1 Axes>"
      ]
     },
     "metadata": {
      "needs_background": "light"
     },
     "output_type": "display_data"
    }
   ],
   "source": [
    "plt.plot(_X, y_hat, color = 'r')\n",
    "plt.scatter(_X, _y)"
   ]
  },
  {
   "cell_type": "markdown",
   "metadata": {},
   "source": [
    "---"
   ]
  },
  {
   "cell_type": "code",
   "execution_count": 20,
   "metadata": {},
   "outputs": [
    {
     "data": {
      "image/png": "[encoded data removed]",
      "text/plain": [
       "<Figure size 432x288 with 1 Axes>"
      ]
     },
     "metadata": {
      "needs_background": "light"
     },
     "output_type": "display_data"
    }
   ],
   "source": [
    "for j in range(1000):\n",
    "    # calculate difference off last entry\n",
    "    diff = _X_mat[-1] - _X_mat[j]\n",
    "    weights[j, j] = np.exp(np.power(diff @ diff.T,2) / (-2 * 0.05**2))\n",
    "    \n",
    "W = np.linalg.pinv(_X_mat.T @ (weights @ _X_mat)) @ (_X_mat.T @ weights @ _y_mat.T)\n",
    "y_hat = np.asarray(_X_mat @ W).reshape(-1)\n",
    "plt.plot(_X, y_hat, color = 'r')\n",
    "plt.scatter(_X, _y);"
   ]
  },
  {
   "cell_type": "markdown",
   "metadata": {},
   "source": [
    "---"
   ]
  },
  {
   "cell_type": "markdown",
   "metadata": {},
   "source": [
    "## Hello"
   ]
  },
  {
   "cell_type": "code",
   "execution_count": 21,
   "metadata": {},
   "outputs": [
    {
     "name": "stderr",
     "output_type": "stream",
     "text": [
      "100%|██████████| 1000/1000 [00:47<00:00, 21.17it/s]\n"
     ]
    }
   ],
   "source": [
    "def kernel(point, xmat, k):\n",
    "    m, n = np.shape(xmat)\n",
    "    weights = np.mat(np.eye((m)))\n",
    "    \n",
    "    for j in range(m):\n",
    "        diff = point - _X_mat[j]\n",
    "        weights[j, j] = np.exp(np.power(diff @ diff.T,1) / (-2.0 * k**2))\n",
    "        \n",
    "    return weights\n",
    "\n",
    "\n",
    "def localWeight(point, xmat, ymat, k):\n",
    "    weight = kernel(point, xmat, k)\n",
    "    \n",
    "    W = np.linalg.inv(_X_mat.T @ (weight @ _X_mat)) @ (_X_mat.T @ weight @ ymat.T)\n",
    "    return W\n",
    "\n",
    "\n",
    "def localWeightRegression(xmat, ymat, k):\n",
    "    m,n = np.shape(xmat)\n",
    "    y_hat = np.zeros(m)\n",
    "    \n",
    "    for i in tqdm(range(m)):\n",
    "        y_hat[i] = xmat[i] * localWeight(xmat[i], xmat, ymat, k)\n",
    "        \n",
    "    \n",
    "        \n",
    "    return y_hat\n",
    "    \n",
    "    \n",
    "    \n",
    "\n",
    "y_hat = localWeightRegression(_X_mat, _y_mat, 0.02)"
   ]
  },
  {
   "cell_type": "code",
   "execution_count": 22,
   "metadata": {},
   "outputs": [
    {
     "data": {
      "image/png": "[encoded data removed]",
      "text/plain": [
       "<Figure size 432x288 with 1 Axes>"
      ]
     },
     "metadata": {
      "needs_background": "light"
     },
     "output_type": "display_data"
    }
   ],
   "source": [
    "plt.plot(_X, y_hat, color = 'r', label = 'weighted fit')\n",
    "plt.scatter(_X, _y)\n",
    "plt.xlabel('Length')\n",
    "plt.ylabel('Weight')\n",
    "plt.title('Abalone weight vs length')\n",
    "plt.legend();"
   ]
  },
  {
   "cell_type": "code",
   "execution_count": null,
   "metadata": {},
   "outputs": [],
   "source": []
  },
  {
   "cell_type": "code",
   "execution_count": null,
   "metadata": {},
   "outputs": [],
   "source": []
  },
  {
   "cell_type": "code",
   "execution_count": 23,
   "metadata": {},
   "outputs": [],
   "source": [
    "# for blogging"
   ]
  },
  {
   "cell_type": "code",
   "execution_count": 24,
   "metadata": {},
   "outputs": [],
   "source": [
    "x = np.array([1,3,5,7])\n",
    "y= np.array([1,2,2,4])\n",
    "\n",
    "x_poly = np.array([np.power(x, p) for p in range(3)]).T\n",
    "_Xt_X_inv = np.linalg.pinv(x_poly.T @ x_poly)\n",
    "_Xt_y = x_poly.T @ y\n",
    "_beta = _Xt_X_inv @ _Xt_y\n"
   ]
  },
  {
   "cell_type": "code",
   "execution_count": 25,
   "metadata": {},
   "outputs": [],
   "source": [
    "test = np.linspace(1, 7)\n",
    "_test_poly = np.array([np.power(test, p) for p in range(3)]).T\n",
    "y_hat_test = _beta @ _test_poly.T"
   ]
  },
  {
   "cell_type": "code",
   "execution_count": 27,
   "metadata": {},
   "outputs": [
    {
     "data": {
      "image/png": "[encoded data removed]",
      "text/plain": [
       "<Figure size 432x288 with 1 Axes>"
      ]
     },
     "metadata": {
      "needs_background": "light"
     },
     "output_type": "display_data"
    }
   ],
   "source": [
    "plt.scatter(x, y, label ='actual')\n",
    "# plt.plot(x, y_hat, color = 'r', label= 'y_hat')\n",
    "plt.plot(test, y_hat_test, color = 'r')\n",
    "plt.legend(loc='upper left')\n",
    "plt.title('Polynomial regression');"
   ]
  },
  {
   "cell_type": "code",
   "execution_count": null,
   "metadata": {},
   "outputs": [],
   "source": []
  },
  {
   "cell_type": "code",
   "execution_count": 28,
   "metadata": {},
   "outputs": [],
   "source": [
    "x_poly_mat = np.mat(x_poly)\n",
    "y_mat = np.mat(y)"
   ]
  },
  {
   "cell_type": "code",
   "execution_count": 30,
   "metadata": {},
   "outputs": [
    {
     "data": {
      "image/png": "[encoded data removed]",
      "text/plain": [
       "<Figure size 432x288 with 1 Axes>"
      ]
     },
     "metadata": {
      "needs_background": "light"
     },
     "output_type": "display_data"
    }
   ],
   "source": [
    "weights = np.mat(np.eye((len(x_poly_mat))))\n",
    "for j in range(len(x_poly_mat)):\n",
    "    # calculate difference off last entry\n",
    "    diff = x_poly_mat[-1] - x_poly_mat[j]\n",
    "    weights[j, j] = np.exp(np.power(diff @ diff.T, 2) / (-2 * 10**2))\n",
    "    \n",
    "W = np.linalg.pinv(x_poly_mat.T @ (weights @ x_poly_mat)) @ (x_poly_mat.T @ weights @ y_mat.T)\n",
    "y_hat = np.asarray(x_poly_mat @ W).reshape(-1)\n",
    "y_hat_test = np.asarray(_test_poly @ W).reshape(-1)\n",
    "# plt.plot(x, y_hat, color = 'r')\n",
    "plt.plot(test, y_hat_test, color = 'r', label = 'y_hat')\n",
    "plt.scatter(x, y, label = 'actual')\n",
    "plt.legend(loc='upper left')\n",
    "plt.title('Weighted on x = 7');"
   ]
  },
  {
   "cell_type": "code",
   "execution_count": null,
   "metadata": {},
   "outputs": [],
   "source": []
  }
 ],
 "metadata": {
  "kernelspec": {
   "display_name": "Python 3",
   "language": "python",
   "name": "python3"
  },
  "language_info": {
   "codemirror_mode": {
    "name": "ipython",
    "version": 3
   },
   "file_extension": ".py",
   "mimetype": "text/x-python",
   "name": "python",
   "nbconvert_exporter": "python",
   "pygments_lexer": "ipython3",
   "version": "3.7.4"
  }
 },
 "nbformat": 4,
 "nbformat_minor": 4
}
